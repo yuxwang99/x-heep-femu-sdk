{
 "cells": [
  {
   "cell_type": "code",
   "execution_count": null,
   "id": "63f1eaa7",
   "metadata": {},
   "outputs": [],
   "source": [
    "# Import the X-HEEP Python class\n",
    "from pynq import x_heep"
   ]
  },
  {
   "cell_type": "code",
   "execution_count": null,
   "id": "2d224b64",
   "metadata": {
    "scrolled": true
   },
   "outputs": [],
   "source": [
    "# Load the X-HEEP bitstream\n",
    "x_heep = x_heep()"
   ]
  },
  {
   "cell_type": "code",
   "execution_count": null,
   "id": "d6af7d95",
   "metadata": {},
   "outputs": [],
   "source": [
    "# Compile the application\n",
    "x_heep.compile_app(\"performance_estimation\");"
   ]
  },
  {
   "cell_type": "code",
   "execution_count": null,
   "id": "643e5cbc",
   "metadata": {},
   "outputs": [],
   "source": [
    "# Init the performance counters\n",
    "perf_cnt = x_heep.init_perf_cnt()"
   ]
  },
  {
   "cell_type": "code",
   "execution_count": null,
   "id": "eba7479d",
   "metadata": {},
   "outputs": [],
   "source": [
    "# Reset the performance counters\n",
    "x_heep.reset_perf_cnt(perf_cnt)"
   ]
  },
  {
   "cell_type": "code",
   "execution_count": null,
   "id": "18597345",
   "metadata": {},
   "outputs": [],
   "source": [
    "# Start the performance counters\n",
    "x_heep.start_perf_cnt_manual(perf_cnt)"
   ]
  },
  {
   "cell_type": "code",
   "execution_count": null,
   "id": "fd8e74c7",
   "metadata": {},
   "outputs": [],
   "source": [
    "t, sf = x_heep.thread_start(True)   # Start a background thread that reads from the UART\n",
    "out, _ = x_heep.run_app()       # Run the application (disregarding the error output)\n",
    "x_heep.thread_stop(t, sf)       # Stop the background thread that reads from the UART"
   ]
  },
  {
   "cell_type": "code",
   "execution_count": null,
   "id": "1b0ac1d1",
   "metadata": {},
   "outputs": [],
   "source": [
    "# Stop the performance counters\n",
    "x_heep.stop_perf_cnt(perf_cnt)"
   ]
  },
  {
   "cell_type": "code",
   "execution_count": null,
   "id": "b4c639bb",
   "metadata": {},
   "outputs": [],
   "source": [
    "# Read the performance counters\n",
    "x_heep.read_perf_cnt(perf_cnt)"
   ]
  },
  {
   "cell_type": "code",
   "execution_count": null,
   "id": "b04c49fd",
   "metadata": {},
   "outputs": [],
   "source": [
    "# Estimate the performance\n",
    "x_heep.estimate_performance()"
   ]
  },
  {
   "cell_type": "code",
   "execution_count": null,
   "id": "ea443a05",
   "metadata": {},
   "outputs": [],
   "source": [
    "# Delete perf_cnt\n",
    "del perf_cnt"
   ]
  }
 ],
 "metadata": {
  "kernelspec": {
   "display_name": "Python 3 (ipykernel)",
   "language": "python",
   "name": "python3"
  },
  "language_info": {
   "codemirror_mode": {
    "name": "ipython",
    "version": 3
   },
   "file_extension": ".py",
   "mimetype": "text/x-python",
   "name": "python",
   "nbconvert_exporter": "python",
   "pygments_lexer": "ipython3",
   "version": "3.10.4"
  }
 },
 "nbformat": 4,
 "nbformat_minor": 5
}
