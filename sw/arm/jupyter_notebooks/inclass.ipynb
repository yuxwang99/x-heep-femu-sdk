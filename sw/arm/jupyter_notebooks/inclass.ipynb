{
 "cells": [
  {
   "cell_type": "code",
   "execution_count": null,
   "id": "39d13fdf",
   "metadata": {},
   "outputs": [],
   "source": [
    "# Import the X-HEEP Python class\n",
    "from pynq import x_heep\n",
    "# Load the X-HEEP bitstream\n",
    "x_heep = x_heep()"
   ]
  },
  {
   "cell_type": "code",
   "execution_count": null,
   "id": "174c3cf6",
   "metadata": {},
   "outputs": [],
   "source": [
    "# Compile the application\n",
    "x_heep.compile_app(\"floating_point_test\");"
   ]
  },
  {
   "cell_type": "code",
   "execution_count": null,
   "id": "9a9be31b",
   "metadata": {},
   "outputs": [],
   "source": [
    "x_heep.run_app() "
   ]
  },
  {
   "cell_type": "code",
   "execution_count": null,
   "id": "71a5f13a",
   "metadata": {},
   "outputs": [],
   "source": [
    "# t, sf = x_heep.thread_start(True)   # Start a background thread that reads from the UART\n",
    "# out, _ = x_heep.run_app()       # Run the application (disregarding the error output)\n",
    "# x_heep.stop(t, sf) "
   ]
  },
  {
   "cell_type": "code",
   "execution_count": null,
   "id": "7faaa997",
   "metadata": {},
   "outputs": [],
   "source": []
  }
 ],
 "metadata": {
  "kernelspec": {
   "display_name": "Python 3 (ipykernel)",
   "language": "python",
   "name": "python3"
  },
  "language_info": {
   "codemirror_mode": {
    "name": "ipython",
    "version": 3
   },
   "file_extension": ".py",
   "mimetype": "text/x-python",
   "name": "python",
   "nbconvert_exporter": "python",
   "pygments_lexer": "ipython3",
   "version": "3.10.4"
  }
 },
 "nbformat": 4,
 "nbformat_minor": 5
}
