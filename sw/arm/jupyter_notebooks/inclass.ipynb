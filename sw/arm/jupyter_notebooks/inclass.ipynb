{
 "cells": [
  {
   "cell_type": "code",
   "execution_count": 1,
   "id": "39d13fdf",
   "metadata": {},
   "outputs": [
    {
     "data": {
      "application/javascript": [
       "\n",
       "try {\n",
       "require(['notebook/js/codecell'], function(codecell) {\n",
       "  codecell.CodeCell.options_default.highlight_modes[\n",
       "      'magic_text/x-csrc'] = {'reg':[/^%%microblaze/]};\n",
       "  Jupyter.notebook.events.one('kernel_ready.Kernel', function(){\n",
       "      Jupyter.notebook.get_cells().map(function(cell){\n",
       "          if (cell.cell_type == 'code'){ cell.auto_highlight(); } }) ;\n",
       "  });\n",
       "});\n",
       "} catch (e) {};\n"
      ]
     },
     "metadata": {},
     "output_type": "display_data"
    },
    {
     "data": {
      "application/javascript": [
       "\n",
       "try {\n",
       "require(['notebook/js/codecell'], function(codecell) {\n",
       "  codecell.CodeCell.options_default.highlight_modes[\n",
       "      'magic_text/x-csrc'] = {'reg':[/^%%pybind11/]};\n",
       "  Jupyter.notebook.events.one('kernel_ready.Kernel', function(){\n",
       "      Jupyter.notebook.get_cells().map(function(cell){\n",
       "          if (cell.cell_type == 'code'){ cell.auto_highlight(); } }) ;\n",
       "  });\n",
       "});\n",
       "} catch (e) {};\n"
      ]
     },
     "metadata": {},
     "output_type": "display_data"
    }
   ],
   "source": [
    "# Import the X-HEEP Python class\n",
    "from pynq import x_heep\n",
    "# Load the X-HEEP bitstream\n",
    "x_heep = x_heep()"
   ]
  },
  {
   "cell_type": "code",
   "execution_count": 20,
   "id": "174c3cf6",
   "metadata": {},
   "outputs": [
    {
     "name": "stdout",
     "output_type": "stream",
     "text": [
      "✅ Compile SUCCESS\n"
     ]
    }
   ],
   "source": [
    "# Compile the application\n",
    "x_heep.compile_app(\"floating_point_test\");"
   ]
  },
  {
   "cell_type": "code",
   "execution_count": 22,
   "id": "01d25f5e",
   "metadata": {},
   "outputs": [
    {
     "name": "stdout",
     "output_type": "stream",
     "text": [
      "int a: 0\n",
      " +  = \n",
      " -  = \n",
      " x  = \n",
      " /  = \n",
      "✅ Return SUCCESS\n",
      " \n"
     ]
    }
   ],
   "source": [
    "# t, sf = x_heep.thread_start(True)   # Start a background thread that reads from the UART\n",
    "out, _ = x_heep.run_app()       # Run the application (disregarding the error output)\n",
    "# x_heep.stop(t, sf)       # Stop the background thread that reads from the UART"
   ]
  },
  {
   "cell_type": "code",
   "execution_count": null,
   "id": "9a9be31b",
   "metadata": {},
   "outputs": [],
   "source": []
  }
 ],
 "metadata": {
  "kernelspec": {
   "display_name": "Python 3 (ipykernel)",
   "language": "python",
   "name": "python3"
  },
  "language_info": {
   "codemirror_mode": {
    "name": "ipython",
    "version": 3
   },
   "file_extension": ".py",
   "mimetype": "text/x-python",
   "name": "python",
   "nbconvert_exporter": "python",
   "pygments_lexer": "ipython3",
   "version": "3.10.4"
  }
 },
 "nbformat": 4,
 "nbformat_minor": 5
}
