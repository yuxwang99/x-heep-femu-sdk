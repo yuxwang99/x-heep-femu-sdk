{
 "cells": [
  {
   "cell_type": "code",
   "execution_count": 4,
   "id": "39d13fdf",
   "metadata": {},
   "outputs": [],
   "source": [
    "# Import the X-HEEP Python class\n",
    "from pynq import x_heep\n",
    "# Load the X-HEEP bitstream\n",
    "x_heep = x_heep()"
   ]
  },
  {
   "cell_type": "code",
   "execution_count": 19,
   "id": "174c3cf6",
   "metadata": {},
   "outputs": [
    {
     "name": "stdout",
     "output_type": "stream",
     "text": [
      "✅ Compile SUCCESS\n"
     ]
    }
   ],
   "source": [
    "# Compile the application\n",
    "x_heep.compile_app(\"floating_point_test\");"
   ]
  },
  {
   "cell_type": "code",
   "execution_count": 20,
   "id": "9a9be31b",
   "metadata": {},
   "outputs": [
    {
     "name": "stdout",
     "output_type": "stream",
     "text": [
      "✅ Return SUCCESS\n",
      " \n",
      "--- APPLICATION OUTPUT ---\n",
      "\n",
      "debug float\n",
      "0.5000 + 1.3100 = 1.8100\n",
      "0.6550\n",
      "0.81000\n",
      "0.382\n",
      "\n",
      "\n"
     ]
    },
    {
     "data": {
      "text/plain": [
       "('\\n--- APPLICATION OUTPUT ---\\n\\ndebug float\\n0.5000 + 1.3100 = 1.8100\\n0.6550\\n0.81000\\n0.382\\n\\n',\n",
       " '')"
      ]
     },
     "execution_count": 20,
     "metadata": {},
     "output_type": "execute_result"
    }
   ],
   "source": [
    "x_heep.run_app() "
   ]
  },
  {
   "cell_type": "code",
   "execution_count": null,
   "id": "71a5f13a",
   "metadata": {},
   "outputs": [],
   "source": [
    "# t, sf = x_heep.thread_start(True)   # Start a background thread that reads from the UART\n",
    "# out, _ = x_heep.run_app()       # Run the application (disregarding the error output)\n",
    "# x_heep.stop(t, sf) "
   ]
  },
  {
   "cell_type": "code",
   "execution_count": null,
   "id": "83fc7ff5",
   "metadata": {},
   "outputs": [],
   "source": []
  }
 ],
 "metadata": {
  "kernelspec": {
   "display_name": "Python 3 (ipykernel)",
   "language": "python",
   "name": "python3"
  },
  "language_info": {
   "codemirror_mode": {
    "name": "ipython",
    "version": 3
   },
   "file_extension": ".py",
   "mimetype": "text/x-python",
   "name": "python",
   "nbconvert_exporter": "python",
   "pygments_lexer": "ipython3",
   "version": "3.10.4"
  }
 },
 "nbformat": 4,
 "nbformat_minor": 5
}
