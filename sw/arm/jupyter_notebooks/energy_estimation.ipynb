{
 "cells": [
  {
   "cell_type": "code",
   "execution_count": 1,
   "id": "63f1eaa7",
   "metadata": {},
   "outputs": [],
   "source": [
    "# Import the X-HEEP Python class\n",
    "from pynq import x_heep"
   ]
  },
  {
   "cell_type": "code",
   "execution_count": 2,
   "id": "2d224b64",
   "metadata": {
    "scrolled": true
   },
   "outputs": [
    {
     "data": {
      "application/javascript": "\ntry {\nrequire(['notebook/js/codecell'], function(codecell) {\n  codecell.CodeCell.options_default.highlight_modes[\n      'magic_text/x-csrc'] = {'reg':[/^%%microblaze/]};\n  Jupyter.notebook.events.one('kernel_ready.Kernel', function(){\n      Jupyter.notebook.get_cells().map(function(cell){\n          if (cell.cell_type == 'code'){ cell.auto_highlight(); } }) ;\n  });\n});\n} catch (e) {};\n"
     },
     "metadata": {},
     "output_type": "display_data"
    },
    {
     "data": {
      "application/javascript": "\ntry {\nrequire(['notebook/js/codecell'], function(codecell) {\n  codecell.CodeCell.options_default.highlight_modes[\n      'magic_text/x-csrc'] = {'reg':[/^%%pybind11/]};\n  Jupyter.notebook.events.one('kernel_ready.Kernel', function(){\n      Jupyter.notebook.get_cells().map(function(cell){\n          if (cell.cell_type == 'code'){ cell.auto_highlight(); } }) ;\n  });\n});\n} catch (e) {};\n"
     },
     "metadata": {},
     "output_type": "display_data"
    }
   ],
   "source": [
    "# Load the X-HEEP bitstream\n",
    "x_heep = x_heep()"
   ]
  },
  {
   "cell_type": "code",
   "execution_count": 3,
   "id": "d6af7d95",
   "metadata": {},
   "outputs": [
    {
     "name": "stdout",
     "output_type": "stream",
     "text": [
      "✅ Compile SUCCESS\n"
     ]
    }
   ],
   "source": [
    "# Compile the application\n",
    "x_heep.compile_app(\"energy_estimation\");"
   ]
  },
  {
   "cell_type": "code",
   "execution_count": 4,
   "id": "643e5cbc",
   "metadata": {},
   "outputs": [],
   "source": [
    "# Init the performance counters\n",
    "perf_cnt = x_heep.init_perf_cnt()"
   ]
  },
  {
   "cell_type": "code",
   "execution_count": 5,
   "id": "eba7479d",
   "metadata": {},
   "outputs": [],
   "source": [
    "# Reset the performance counters\n",
    "x_heep.reset_perf_cnt(perf_cnt)"
   ]
  },
  {
   "cell_type": "code",
   "execution_count": 6,
   "id": "18597345",
   "metadata": {},
   "outputs": [],
   "source": [
    "# Start the performance counters\n",
    "x_heep.start_perf_cnt_manual(perf_cnt)"
   ]
  },
  {
   "cell_type": "code",
   "execution_count": 9,
   "id": "fd8e74c7",
   "metadata": {},
   "outputs": [
    {
     "name": "stdout",
     "output_type": "stream",
     "text": [
      "Hello World!\n",
      "✅ Return SUCCESS\n",
      " \n",
      "\r"
     ]
    }
   ],
   "source": [
    "t, sf = x_heep.thread_start(True)   # Start a background thread that reads from the UART\n",
    "out, _ = x_heep.run_app()       # Run the application (disregarding the error output)\n",
    "x_heep.thread_stop(t, sf)       # Stop the background thread that reads from the UART"
   ]
  },
  {
   "cell_type": "code",
   "execution_count": 10,
   "id": "1b0ac1d1",
   "metadata": {},
   "outputs": [],
   "source": [
    "# Stop the performance counters\n",
    "x_heep.stop_perf_cnt(perf_cnt)"
   ]
  },
  {
   "cell_type": "code",
   "execution_count": 11,
   "id": "b4c639bb",
   "metadata": {},
   "outputs": [],
   "source": [
    "# Read the performance counters\n",
    "x_heep.read_perf_cnt(perf_cnt)"
   ]
  },
  {
   "cell_type": "code",
   "execution_count": 12,
   "id": "47ff5764",
   "metadata": {},
   "outputs": [
    {
     "name": "stdout",
     "output_type": "stream",
     "text": [
      "\n",
      "--- PERFORMANCE ESTIMATION AT 20MHz ---\n",
      "\n",
      "total time:                 9.121000E-04s\n",
      "\n",
      "x-heep\n",
      "\n",
      "    cpu\n",
      "\n",
      "     - active time:         9.121000E-04s\n",
      "     - clock-gate time:     0.000000E+00s\n",
      "     - power-gate time:     0.000000E+00s\n",
      "\n",
      "    bus ao\n",
      "\n",
      "     - active time:         9.121000E-04s\n",
      "     - clock-gate time:     0.000000E+00s\n",
      "\n",
      "    debug ao\n",
      "\n",
      "     - active time:         9.121000E-04s\n",
      "     - clock-gate time:     0.000000E+00s\n",
      "\n",
      "    always-on peripheral subsystem\n",
      "\n",
      "        soc ctrl ao\n",
      "\n",
      "         - active time:     9.121000E-04s\n",
      "         - clock-gate time: 0.000000E+00s\n",
      "\n",
      "        boot rom ao\n",
      "\n",
      "         - active time:     9.121000E-04s\n",
      "         - clock-gate time: 0.000000E+00s\n",
      "\n",
      "        spi flash ao\n",
      "\n",
      "         - active time:     9.121000E-04s\n",
      "         - clock-gate time: 0.000000E+00s\n",
      "\n",
      "        spi ao\n",
      "\n",
      "         - active time:     9.121000E-04s\n",
      "         - clock-gate time: 0.000000E+00s\n",
      "\n",
      "        power manager ao\n",
      "\n",
      "         - active time:     9.121000E-04s\n",
      "         - clock-gate time: 0.000000E+00s\n",
      "\n",
      "        timer ao\n",
      "\n",
      "         - active time:     9.121000E-04s\n",
      "         - clock-gate time: 0.000000E+00s\n",
      "\n",
      "        dma ao\n",
      "\n",
      "         - active time:     9.121000E-04s\n",
      "         - clock-gate time: 0.000000E+00s\n",
      "\n",
      "        fast int ctrl ao\n",
      "\n",
      "         - active time:     9.121000E-04s\n",
      "         - clock-gate time: 0.000000E+00s\n",
      "\n",
      "        gpio ao\n",
      "\n",
      "         - active time:     9.121000E-04s\n",
      "         - clock-gate time: 0.000000E+00s\n",
      "\n",
      "        uart ao\n",
      "\n",
      "         - active time:     9.121000E-04s\n",
      "         - clock-gate time: 0.000000E+00s\n",
      "\n",
      "    peripheral subsystem\n",
      "\n",
      "        plic\n",
      "\n",
      "         - active time:     9.121000E-04s\n",
      "         - clock-gate time: 0.000000E+00s\n",
      "         - power-gate time: 0.000000E+00s\n",
      "\n",
      "        gpio\n",
      "\n",
      "         - active time:     9.121000E-04s\n",
      "         - clock-gate time: 0.000000E+00s\n",
      "         - power-gate time: 0.000000E+00s\n",
      "\n",
      "        i2c\n",
      "\n",
      "         - active time:     9.121000E-04s\n",
      "         - clock-gate time: 0.000000E+00s\n",
      "         - power-gate time: 0.000000E+00s\n",
      "\n",
      "        timer\n",
      "\n",
      "         - active time:     9.121000E-04s\n",
      "         - clock-gate time: 0.000000E+00s\n",
      "         - power-gate time: 0.000000E+00s\n",
      "\n",
      "        spi\n",
      "\n",
      "         - active time:     9.121000E-04s\n",
      "         - clock-gate time: 0.000000E+00s\n",
      "         - power-gate time: 0.000000E+00s\n",
      "\n",
      "    memory subsystem\n",
      "\n",
      "        ram bank 0\n",
      "\n",
      "         - active time:     9.121000E-04s\n",
      "         - clock-gate time: 0.000000E+00s\n",
      "         - power-gate time: 0.000000E+00s\n",
      "         - retentive time:  0.000000E+00s\n",
      "\n",
      "        ram bank 1\n",
      "\n",
      "         - active time:     9.121000E-04s\n",
      "         - clock-gate time: 0.000000E+00s\n",
      "         - power-gate time: 0.000000E+00s\n",
      "         - retentive time:  0.000000E+00s\n",
      "\n",
      "        ram bank 2\n",
      "\n",
      "         - active time:     9.121000E-04s\n",
      "         - clock-gate time: 0.000000E+00s\n",
      "         - power-gate time: 0.000000E+00s\n",
      "         - retentive time:  0.000000E+00s\n",
      "\n",
      "        ram bank 3\n",
      "\n",
      "         - active time:     9.121000E-04s\n",
      "         - clock-gate time: 0.000000E+00s\n",
      "         - power-gate time: 0.000000E+00s\n",
      "         - retentive time:  0.000000E+00s\n"
     ]
    }
   ],
   "source": [
    "# Estimate the performance\n",
    "x_heep.estimate_performance()"
   ]
  },
  {
   "cell_type": "code",
   "execution_count": 13,
   "id": "b1da5c73",
   "metadata": {},
   "outputs": [
    {
     "name": "stdout",
     "output_type": "stream",
     "text": [
      "\n",
      "--- ENERGY ESTIMATION AT 20MHz ---\n",
      "\n",
      "total energy:                 9.327208E-07J\n",
      "\n",
      "x-heep\n",
      "\n",
      "    cpu\n",
      "\n",
      "     - active energy:         5.582052E-08J\n",
      "     - clock-gate energy:     0.000000E+00J\n",
      "     - power-gate energy:     0.000000E+00J\n",
      "\n",
      "    bus ao\n",
      "\n",
      "     - active energy:         3.347407E-08J\n",
      "     - clock-gate energy:     0.000000E+00J\n",
      "\n",
      "    debug ao\n",
      "\n",
      "     - active energy:         1.422876E-07J\n",
      "     - clock-gate energy:     0.000000E+00J\n",
      "\n",
      "    always-on peripheral subsystem\n",
      "\n",
      "        soc ctrl ao\n",
      "\n",
      "         - active energy:     2.553880E-09J\n",
      "         - clock-gate energy: 0.000000E+00J\n",
      "\n",
      "        boot rom ao\n",
      "\n",
      "         - active energy:     4.013240E-10J\n",
      "         - clock-gate energy: 0.000000E+00J\n",
      "\n",
      "        spi flash ao\n",
      "\n",
      "         - active energy:     1.103641E-07J\n",
      "         - clock-gate energy: 0.000000E+00J\n",
      "\n",
      "        spi ao\n",
      "\n",
      "         - active energy:     9.020669E-08J\n",
      "         - clock-gate energy: 0.000000E+00J\n",
      "\n",
      "        power manager ao\n",
      "\n",
      "         - active energy:     5.162486E-08J\n",
      "         - clock-gate energy: 0.000000E+00J\n",
      "\n",
      "        timer ao\n",
      "\n",
      "         - active energy:     1.240456E-08J\n",
      "         - clock-gate energy: 0.000000E+00J\n",
      "\n",
      "        dma ao\n",
      "\n",
      "         - active energy:     7.451857E-09J\n",
      "         - clock-gate energy: 0.000000E+00J\n",
      "\n",
      "        fast int ctrl ao\n",
      "\n",
      "         - active energy:     6.366458E-10J\n",
      "         - clock-gate energy: 0.000000E+00J\n",
      "\n",
      "        gpio ao\n",
      "\n",
      "         - active energy:     1.961015E-08J\n",
      "         - clock-gate energy: 0.000000E+00J\n",
      "\n",
      "        uart ao\n",
      "\n",
      "         - active energy:     4.405443E-08J\n",
      "         - clock-gate energy: 0.000000E+00J\n",
      "\n",
      "    peripheral subsystem\n",
      "\n",
      "        plic\n",
      "\n",
      "         - active energy:     8.400441E-08J\n",
      "         - clock-gate energy: 0.000000E+00J\n",
      "         - power-gate energy: 0.000000E+00J\n",
      "\n",
      "        gpio\n",
      "\n",
      "         - active energy:     4.487532E-08J\n",
      "         - clock-gate energy: 0.000000E+00J\n",
      "         - power-gate energy: 0.000000E+00J\n",
      "\n",
      "        i2c\n",
      "\n",
      "         - active energy:     8.108569E-08J\n",
      "         - clock-gate energy: 0.000000E+00J\n",
      "         - power-gate energy: 0.000000E+00J\n",
      "\n",
      "        timer\n",
      "\n",
      "         - active energy:     1.222214E-08J\n",
      "         - clock-gate energy: 0.000000E+00J\n",
      "         - power-gate energy: 0.000000E+00J\n",
      "\n",
      "        spi\n",
      "\n",
      "         - active energy:     9.020669E-08J\n",
      "         - clock-gate energy: 0.000000E+00J\n",
      "         - power-gate energy: 0.000000E+00J\n",
      "\n",
      "    memory subsystem\n",
      "\n",
      "        ram bank 0\n",
      "\n",
      "         - active energy:     0.000000E+00J\n",
      "         - clock-gate energy: 0.000000E+00J\n",
      "         - power-gate energy: 0.000000E+00J\n",
      "         - retentive energy:  0.000000E+00J\n",
      "\n",
      "        ram bank 1\n",
      "\n",
      "         - active energy:     0.000000E+00J\n",
      "         - clock-gate energy: 0.000000E+00J\n",
      "         - power-gate energy: 0.000000E+00J\n",
      "         - retentive energy:  0.000000E+00J\n",
      "\n",
      "        ram bank 2\n",
      "\n",
      "         - active energy:     0.000000E+00J\n",
      "         - clock-gate energy: 0.000000E+00J\n",
      "         - power-gate energy: 0.000000E+00J\n",
      "         - retentive energy:  0.000000E+00J\n",
      "\n",
      "        ram bank 3\n",
      "\n",
      "         - active energy:     0.000000E+00J\n",
      "         - clock-gate energy: 0.000000E+00J\n",
      "         - power-gate energy: 0.000000E+00J\n",
      "         - retentive energy:  0.000000E+00J\n"
     ]
    }
   ],
   "source": [
    "# Estimate the energy\n",
    "x_heep.estimate_energy(\"LVT\")"
   ]
  },
  {
   "cell_type": "code",
   "execution_count": 14,
   "id": "8a692a02",
   "metadata": {},
   "outputs": [],
   "source": [
    "# Delete perf_cnt\n",
    "del perf_cnt"
   ]
  }
 ],
 "metadata": {
  "kernelspec": {
   "display_name": "Python 3 (ipykernel)",
   "language": "python",
   "name": "python3"
  }
 },
 "nbformat": 4,
 "nbformat_minor": 5
}
