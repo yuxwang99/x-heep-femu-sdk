{
 "cells": [
  {
   "cell_type": "code",
   "execution_count": null,
   "id": "130811ea",
   "metadata": {
    "scrolled": true
   },
   "outputs": [],
   "source": [
    "# Import the X-HEEP Python class\n",
    "from pynq import x_heep"
   ]
  },
  {
   "cell_type": "code",
   "execution_count": null,
   "id": "e11233ef",
   "metadata": {
    "scrolled": true
   },
   "outputs": [],
   "source": [
    "# Load the X-HEEP bitstream\n",
    "x_heep = x_heep()"
   ]
  },
  {
   "cell_type": "code",
   "execution_count": null,
   "id": "c3a0bfee",
   "metadata": {
    "scrolled": true
   },
   "outputs": [],
   "source": [
    "# Compile the application\n",
    "x_heep.compile_app(\"virtual_adc_write\");"
   ]
  },
  {
   "cell_type": "code",
   "execution_count": null,
   "id": "cad7c03b",
   "metadata": {},
   "outputs": [],
   "source": [
    "# Init the ADC memory\n",
    "adc = x_heep.init_adc_mem()"
   ]
  },
  {
   "cell_type": "code",
   "execution_count": null,
   "id": "83ad80fc",
   "metadata": {},
   "outputs": [],
   "source": [
    "# Reset the ADC memory\n",
    "x_heep.reset_adc_mem(adc)"
   ]
  },
  {
   "cell_type": "code",
   "execution_count": null,
   "id": "9c5429d6",
   "metadata": {},
   "outputs": [],
   "source": [
    "t, sf = x_heep.thread_start(True)   # Start a background thread that reads from the UART\n",
    "out, _ = x_heep.run_app()       # Run the application (disregarding the error output)\n",
    "x_heep.thread_stop(t, sf)       # Stop the background thread that reads from the UART"
   ]
  },
  {
   "cell_type": "code",
   "execution_count": null,
   "id": "06ca032b",
   "metadata": {},
   "outputs": [],
   "source": [
    "# Read the ADC memory\n",
    "x_heep.read_adc_mem(adc)"
   ]
  },
  {
   "cell_type": "code",
   "execution_count": null,
   "id": "2917156a",
   "metadata": {},
   "outputs": [],
   "source": [
    "# Delete adc\n",
    "del adc"
   ]
  }
 ],
 "metadata": {
  "kernelspec": {
   "display_name": "Python 3 (ipykernel)",
   "language": "python",
   "name": "python3"
  }
 },
 "nbformat": 4,
 "nbformat_minor": 5
}
