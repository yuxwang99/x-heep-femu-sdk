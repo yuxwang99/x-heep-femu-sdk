{
 "cells": [
  {
   "cell_type": "code",
   "execution_count": null,
   "id": "130811ea",
   "metadata": {
    "scrolled": true
   },
   "outputs": [],
   "source": [
    "# Import the X-HEEP Python class\n",
    "from pynq import x_heep"
   ]
  },
  {
   "cell_type": "code",
   "execution_count": null,
   "id": "e11233ef",
   "metadata": {
    "scrolled": true
   },
   "outputs": [],
   "source": [
    "# Load the X-HEEP bitstream\n",
    "x_heep = x_heep()"
   ]
  },
  {
   "cell_type": "code",
   "execution_count": null,
   "id": "c3a0bfee",
   "metadata": {
    "scrolled": true
   },
   "outputs": [],
   "source": [
    "# Compile the application\n",
    "x_heep.compile_app(\"virtual_flash_read\");"
   ]
  },
  {
   "cell_type": "code",
   "execution_count": null,
   "id": "22a4bdca",
   "metadata": {
    "scrolled": true
   },
   "outputs": [],
   "source": [
    "# Init the Flash\n",
    "flash = x_heep.init_flash()"
   ]
  },
  {
   "cell_type": "code",
   "execution_count": null,
   "id": "0dc5421c",
   "metadata": {},
   "outputs": [],
   "source": [
    "# Reset the Flash\n",
    "x_heep.reset_flash(flash)"
   ]
  },
  {
   "cell_type": "code",
   "execution_count": null,
   "id": "430eed9e",
   "metadata": {},
   "outputs": [],
   "source": [
    "# Write the Flash\n",
    "x_heep.write_flash(flash)"
   ]
  },
  {
   "cell_type": "code",
   "execution_count": null,
   "id": "2661773a",
   "metadata": {
    "scrolled": true
   },
   "outputs": [],
   "source": [
    "t, sf = x_heep.thread_start(True)   # Start a background thread that reads from the UART\n",
    "out, _ = x_heep.run_app()       # Run the application (disregarding the error output)\n",
    "x_heep.thread_stop(t, sf)       # Stop the background thread that reads from the UART"
   ]
  },
  {
   "cell_type": "code",
   "execution_count": null,
   "id": "827f1641",
   "metadata": {
    "scrolled": true
   },
   "outputs": [],
   "source": [
    "# Delete flash\n",
    "del flash"
   ]
  }
 ],
 "metadata": {
  "kernelspec": {
   "display_name": "Python 3 (ipykernel)",
   "language": "python",
   "name": "python3"
  }
 },
 "nbformat": 4,
 "nbformat_minor": 5
}
