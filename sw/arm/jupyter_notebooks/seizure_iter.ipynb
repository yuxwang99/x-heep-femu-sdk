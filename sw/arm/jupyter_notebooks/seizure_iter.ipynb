{
 "cells": [
  {
   "cell_type": "code",
   "execution_count": 1,
   "id": "099670a6",
   "metadata": {},
   "outputs": [],
   "source": [
    "# Import the X-HEEP Python class\n",
    "from pynq import x_heep"
   ]
  },
  {
   "cell_type": "code",
   "execution_count": 2,
   "id": "a79e02f2",
   "metadata": {},
   "outputs": [
    {
     "data": {
      "application/javascript": [
       "\n",
       "try {\n",
       "require(['notebook/js/codecell'], function(codecell) {\n",
       "  codecell.CodeCell.options_default.highlight_modes[\n",
       "      'magic_text/x-csrc'] = {'reg':[/^%%microblaze/]};\n",
       "  Jupyter.notebook.events.one('kernel_ready.Kernel', function(){\n",
       "      Jupyter.notebook.get_cells().map(function(cell){\n",
       "          if (cell.cell_type == 'code'){ cell.auto_highlight(); } }) ;\n",
       "  });\n",
       "});\n",
       "} catch (e) {};\n"
      ]
     },
     "metadata": {},
     "output_type": "display_data"
    },
    {
     "data": {
      "application/javascript": [
       "\n",
       "try {\n",
       "require(['notebook/js/codecell'], function(codecell) {\n",
       "  codecell.CodeCell.options_default.highlight_modes[\n",
       "      'magic_text/x-csrc'] = {'reg':[/^%%pybind11/]};\n",
       "  Jupyter.notebook.events.one('kernel_ready.Kernel', function(){\n",
       "      Jupyter.notebook.get_cells().map(function(cell){\n",
       "          if (cell.cell_type == 'code'){ cell.auto_highlight(); } }) ;\n",
       "  });\n",
       "});\n",
       "} catch (e) {};\n"
      ]
     },
     "metadata": {},
     "output_type": "display_data"
    }
   ],
   "source": [
    "# Load the X-HEEP bitstream\n",
    "x_heep = x_heep()"
   ]
  },
  {
   "cell_type": "code",
   "execution_count": 3,
   "id": "9bc97694",
   "metadata": {},
   "outputs": [],
   "source": [
    "ddr = x_heep.init_ddr_mem(100)"
   ]
  },
  {
   "cell_type": "code",
   "execution_count": 4,
   "id": "58894c17",
   "metadata": {
    "scrolled": false
   },
   "outputs": [
    {
     "name": "stdout",
     "output_type": "stream",
     "text": [
      "rm -rf build\n",
      "/tools/riscv/bin/riscv32-unknown-elf-gcc -march=rv32imc -o apps/seizure/seizure.elf -w -Os -g -nostdlib \\\n",
      "\t \\\n",
      "\t -DHOST_BUILD \\\n",
      "\t-T link/link.ld \\\n",
      "\t-I /tools/riscv/riscv32-unknown-elf/include \\\n",
      "\t-I lib/target/ -I lib/base/ -I lib/hal/dma/ -I lib/hal/fast_intr_ctrl/ -I lib/hal/gpio/ -I lib/hal/i2c/ -I lib/hal/pad_control/ -I lib/hal/power_manager/ -I lib/hal/rv_plic/ -I lib/hal/rv_timer/ -I lib/hal/soc_ctrl/ -I lib/hal/spi_host/ -I lib/hal/spi_memio/ -I lib/hal/uart/ -I lib/runtime/ \\\n",
      "\t-I apps/seizure/INCLASS_iterative_test_single \\\n",
      "\t-I apps/seizure/include \\\n",
      "\t-static \\\n",
      "\tlib/crt/crt0.S lib/crt/vectors.S \\\n",
      "\tapps/seizure/examples_single/main.c apps/seizure/INCLASS_iterative_test_single/abs1.c apps/seizure/INCLASS_iterative_test_single/abs.c apps/seizure/INCLASS_iterative_test_single/addToLoAndAdjust.c apps/seizure/INCLASS_iterative_test_single/aggregatePredict.c apps/seizure/INCLASS_iterative_test_single/all.c apps/seizure/INCLASS_iterative_test_single/any.c apps/seizure/INCLASS_iterative_test_single/applyVectorFunction.c apps/seizure/INCLASS_iterative_test_single/applyVectorFunctionNoCopy.c apps/seizure/INCLASS_iterative_test_single/atan21.c apps/seizure/INCLASS_iterative_test_single/atan2.c apps/seizure/INCLASS_iterative_test_single/bandpower.c apps/seizure/INCLASS_iterative_test_single/bitsra.c apps/seizure/INCLASS_iterative_test_single/blockedSummation.c apps/seizure/INCLASS_iterative_test_single/bluesteinSetup.c apps/seizure/INCLASS_iterative_test_single/bsxfun.c apps/seizure/INCLASS_iterative_test_single/colon.c apps/seizure/INCLASS_iterative_test_single/combineVectorElements.c apps/seizure/INCLASS_iterative_test_single/CompactClassificationEnsemble.c apps/seizure/INCLASS_iterative_test_single/CompactClassificationModel.c apps/seizure/INCLASS_iterative_test_single/CompactClassificationTree.c apps/seizure/INCLASS_iterative_test_single/CompactEnsemble.c apps/seizure/INCLASS_iterative_test_single/CompactTree.c apps/seizure/INCLASS_iterative_test_single/convertStringsToChars.c apps/seizure/INCLASS_iterative_test_single/cos1.c apps/seizure/INCLASS_iterative_test_single/cos.c apps/seizure/INCLASS_iterative_test_single/cospi1.c apps/seizure/INCLASS_iterative_test_single/cospiAndSinpi.c apps/seizure/INCLASS_iterative_test_single/cospi.c apps/seizure/INCLASS_iterative_test_single/createFromDateVec.c apps/seizure/INCLASS_iterative_test_single/days2ymd.c apps/seizure/INCLASS_iterative_test_single/diff.c apps/seizure/INCLASS_iterative_test_single/div.c apps/seizure/INCLASS_iterative_test_single/divide.c apps/seizure/INCLASS_iterative_test_single/divmod.c apps/seizure/INCLASS_iterative_test_single/eml_mtimes_helper.c apps/seizure/INCLASS_iterative_test_single/eml_setop.c apps/seizure/INCLASS_iterative_test_single/eml_string_transform.c apps/seizure/INCLASS_iterative_test_single/exp1.c apps/seizure/INCLASS_iterative_test_single/exp.c apps/seizure/INCLASS_iterative_test_single/eye.c apps/seizure/INCLASS_iterative_test_single/fft.c apps/seizure/INCLASS_iterative_test_single/FFTImplementationCallback.c apps/seizure/INCLASS_iterative_test_single/filter.c apps/seizure/INCLASS_iterative_test_single/find.c apps/seizure/INCLASS_iterative_test_single/findNode.c apps/seizure/INCLASS_iterative_test_single/findpeaks.c apps/seizure/INCLASS_iterative_test_single/fix1.c apps/seizure/INCLASS_iterative_test_single/fix.c apps/seizure/INCLASS_iterative_test_single/floor1.c apps/seizure/INCLASS_iterative_test_single/floor2.c apps/seizure/INCLASS_iterative_test_single/floor.c apps/seizure/INCLASS_iterative_test_single/floorFrac.c apps/seizure/INCLASS_iterative_test_single/getDateVec.c apps/seizure/INCLASS_iterative_test_single/heapsort.c apps/seizure/INCLASS_iterative_test_single/idivide.c apps/seizure/INCLASS_iterative_test_single/ifWhileCond.c apps/seizure/INCLASS_iterative_test_single/INCLASS_iterative_test_single.c apps/seizure/INCLASS_iterative_test_single/INCLASS_iterative_test_single_emxAPI.c apps/seizure/INCLASS_iterative_test_single/INCLASS_iterative_test_single_emxutil.c apps/seizure/INCLASS_iterative_test_single/INCLASS_iterative_test_single_initialize.c apps/seizure/INCLASS_iterative_test_single/INCLASS_iterative_test_single_rtwutil.c apps/seizure/INCLASS_iterative_test_single/INCLASS_iterative_test_single_terminate.c apps/seizure/INCLASS_iterative_test_single/indexIntRelop.c apps/seizure/INCLASS_iterative_test_single/insertionsort.c apps/seizure/INCLASS_iterative_test_single/introsort.c apps/seizure/INCLASS_iterative_test_single/isfinite.c apps/seizure/INCLASS_iterative_test_single/isinf.c apps/seizure/INCLASS_iterative_test_single/ismember.c apps/seizure/INCLASS_iterative_test_single/isnan.c apps/seizure/INCLASS_iterative_test_single/isrow.c apps/seizure/INCLASS_iterative_test_single/ixfun.c apps/seizure/INCLASS_iterative_test_single/length.c apps/seizure/INCLASS_iterative_test_single/log101.c apps/seizure/INCLASS_iterative_test_single/log10.c apps/seizure/INCLASS_iterative_test_single/log2.c apps/seizure/INCLASS_iterative_test_single/lower.c apps/seizure/INCLASS_iterative_test_single/lusolve.c apps/seizure/INCLASS_iterative_test_single/mean.c apps/seizure/INCLASS_iterative_test_single/mergesort.c apps/seizure/INCLASS_iterative_test_single/minOrMax.c apps/seizure/INCLASS_iterative_test_single/minus.c apps/seizure/INCLASS_iterative_test_single/mod1.c apps/seizure/INCLASS_iterative_test_single/mod.c apps/seizure/INCLASS_iterative_test_single/movfunDispatch.c apps/seizure/INCLASS_iterative_test_single/movmedian.c apps/seizure/INCLASS_iterative_test_single/movsortfun.c apps/seizure/INCLASS_iterative_test_single/movsum.c apps/seizure/INCLASS_iterative_test_single/movSumProdOrMean.c apps/seizure/INCLASS_iterative_test_single/mpower.c apps/seizure/INCLASS_iterative_test_single/mrdivide_helper.c apps/seizure/INCLASS_iterative_test_single/mtimes1.c apps/seizure/INCLASS_iterative_test_single/mtimes.c apps/seizure/INCLASS_iterative_test_single/nextpow21.c apps/seizure/INCLASS_iterative_test_single/nextpow2.c apps/seizure/INCLASS_iterative_test_single/nnz.c apps/seizure/INCLASS_iterative_test_single/nonzeros.c apps/seizure/INCLASS_iterative_test_single/nullAssignment.c apps/seizure/INCLASS_iterative_test_single/plomb.c apps/seizure/INCLASS_iterative_test_single/plus.c apps/seizure/INCLASS_iterative_test_single/power.c apps/seizure/INCLASS_iterative_test_single/predictOneWithCache.c apps/seizure/INCLASS_iterative_test_single/prod.c apps/seizure/INCLASS_iterative_test_single/relop.c apps/seizure/INCLASS_iterative_test_single/rem1.c apps/seizure/INCLASS_iterative_test_single/rem.c apps/seizure/INCLASS_iterative_test_single/repmat.c apps/seizure/INCLASS_iterative_test_single/round1.c apps/seizure/INCLASS_iterative_test_single/round.c apps/seizure/INCLASS_iterative_test_single/rtGetInf.c apps/seizure/INCLASS_iterative_test_single/rtGetNaN.c apps/seizure/INCLASS_iterative_test_single/rt_nonfinite.c apps/seizure/INCLASS_iterative_test_single/secs2hms.c apps/seizure/INCLASS_iterative_test_single/sign1.c apps/seizure/INCLASS_iterative_test_single/sign.c apps/seizure/INCLASS_iterative_test_single/sin1.c apps/seizure/INCLASS_iterative_test_single/sin.c apps/seizure/INCLASS_iterative_test_single/sinpi1.c apps/seizure/INCLASS_iterative_test_single/sinpi.c apps/seizure/INCLASS_iterative_test_single/sizeIsPow2.c apps/seizure/INCLASS_iterative_test_single/sortAscendLE.c apps/seizure/INCLASS_iterative_test_single/sortDescendLE.c apps/seizure/INCLASS_iterative_test_single/SortedBuffer.c apps/seizure/INCLASS_iterative_test_single/sortIdx.c apps/seizure/INCLASS_iterative_test_single/sortLE.c apps/seizure/INCLASS_iterative_test_single/sortpartition.c apps/seizure/INCLASS_iterative_test_single/split.c apps/seizure/INCLASS_iterative_test_single/sqrt1.c apps/seizure/INCLASS_iterative_test_single/sqrt.c apps/seizure/INCLASS_iterative_test_single/stack.c apps/seizure/INCLASS_iterative_test_single/std.c apps/seizure/INCLASS_iterative_test_single/strcmp.c apps/seizure/INCLASS_iterative_test_single/sum.c apps/seizure/INCLASS_iterative_test_single/sumprod.c apps/seizure/INCLASS_iterative_test_single/table2PredictMatrix.c apps/seizure/INCLASS_iterative_test_single/times.c apps/seizure/INCLASS_iterative_test_single/two_diff.c apps/seizure/INCLASS_iterative_test_single/two_prod.c apps/seizure/INCLASS_iterative_test_single/two_sum.c apps/seizure/INCLASS_iterative_test_single/unique.c apps/seizure/INCLASS_iterative_test_single/updateCache.c apps/seizure/INCLASS_iterative_test_single/var.c apps/seizure/INCLASS_iterative_test_single/varstd.c apps/seizure/INCLASS_iterative_test_single/vvarstd.c apps/seizure/INCLASS_iterative_test_single/xdlapy2.c apps/seizure/INCLASS_iterative_test_single/xnrm2.c lib/runtime/handler.c lib/runtime/init.c lib/runtime/syscalls.c \\\n",
      "\tlib/base/bitfield.c lib/base/memory.c lib/base/mmio.c \\\n",
      "\tlib/hal/soc_ctrl/soc_ctrl.c lib/hal/uart/uart.c lib/hal/rv_plic/rv_plic.c lib/hal/rv_timer/rv_timer.c lib/hal/gpio/gpio.c lib/hal/i2c/i2c.c lib/hal/dma/dma.c lib/hal/power_manager/power_manager.c   lib/hal/spi_host/spi_host.c lib/hal/pad_control/pad_control.c \\\n",
      "\t-Wl,-Map=apps/seizure/seizure.map \\\n",
      "\t-L /tools/riscv/riscv32-unknown-elf/lib \\\n",
      "\t-lc -lm -lgcc -flto -ffunction-sections -fdata-sections -specs=nano.specs\n"
     ]
    },
    {
     "name": "stdout",
     "output_type": "stream",
     "text": [
      "/tools/riscv/bin/riscv32-unknown-elf-objcopy -O binary apps/seizure/seizure.elf apps/seizure/seizure.bin\n",
      "/tools/riscv/bin/riscv32-unknown-elf-objdump -D apps/seizure/seizure.elf > apps/seizure/seizure.dis\n"
     ]
    }
   ],
   "source": [
    "x_heep.compile_app(\"seizure\")"
   ]
  },
  {
   "cell_type": "code",
   "execution_count": null,
   "id": "690c5e64",
   "metadata": {
    "scrolled": true
   },
   "outputs": [],
   "source": [
    "x_heep.run_app()"
   ]
  },
  {
   "cell_type": "code",
   "execution_count": null,
   "id": "32084270",
   "metadata": {},
   "outputs": [],
   "source": [
    "x_heep.release_mem(ddr)"
   ]
  },
  {
   "cell_type": "code",
   "execution_count": null,
   "id": "3f7580db",
   "metadata": {},
   "outputs": [],
   "source": []
  }
 ],
 "metadata": {
  "kernelspec": {
   "display_name": "Python 3 (ipykernel)",
   "language": "python",
   "name": "python3"
  },
  "language_info": {
   "codemirror_mode": {
    "name": "ipython",
    "version": 3
   },
   "file_extension": ".py",
   "mimetype": "text/x-python",
   "name": "python",
   "nbconvert_exporter": "python",
   "pygments_lexer": "ipython3",
   "version": "3.10.4"
  }
 },
 "nbformat": 4,
 "nbformat_minor": 5
}
