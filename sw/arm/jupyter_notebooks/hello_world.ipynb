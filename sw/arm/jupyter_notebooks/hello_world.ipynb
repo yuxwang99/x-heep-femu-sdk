{
 "cells": [
  {
   "cell_type": "code",
   "execution_count": null,
   "id": "63f1eaa7",
   "metadata": {},
   "outputs": [],
   "source": [
    "# Import the X-HEEP Python class\n",
    "from pynq import x_heep\n",
    "# Load the X-HEEP bitstream\n",
    "x_heep = x_heep()"
   ]
  },
  {
   "cell_type": "code",
   "execution_count": null,
   "id": "d6af7d95",
   "metadata": {},
   "outputs": [],
   "source": [
    "# Compile the application\n",
    "x_heep.compile_app(\"hello_world\");"
   ]
  },
  {
   "cell_type": "code",
   "execution_count": null,
   "id": "96d2d8a3",
   "metadata": {},
   "outputs": [],
   "source": [
    "t, sf = x_heep.thread_start(True)   # Start a background thread that reads from the UART\n",
    "out, _ = x_heep.run_app()       # Run the application (disregarding the error output)\n",
    "x_heep.thread_stop(t, sf)       # Stop the background thread that reads from the UART"
   ]
  }
 ],
 "metadata": {
  "kernelspec": {
   "display_name": "Python 3 (ipykernel)",
   "language": "python",
   "name": "python3"
  },
  "language_info": {
   "codemirror_mode": {
    "name": "ipython",
    "version": 3
   },
   "file_extension": ".py",
   "mimetype": "text/x-python",
   "name": "python",
   "nbconvert_exporter": "python",
   "pygments_lexer": "ipython3",
   "version": "3.10.4"
  }
 },
 "nbformat": 4,
 "nbformat_minor": 5
}
